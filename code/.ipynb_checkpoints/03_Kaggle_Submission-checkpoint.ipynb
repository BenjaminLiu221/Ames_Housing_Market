{
 "cells": [
  {
   "cell_type": "markdown",
   "metadata": {},
   "source": [
    "# Kaggle Submission"
   ]
  },
  {
   "cell_type": "code",
   "execution_count": 1,
   "metadata": {},
   "outputs": [],
   "source": [
    "import pandas as pd\n",
    "import numpy as np\n",
    "from sklearn.preprocessing import StandardScaler\n",
    "from sklearn.linear_model import LinearRegression\n",
    "import pickle\n",
    "np.random.seed(42)"
   ]
  },
  {
   "cell_type": "markdown",
   "metadata": {},
   "source": [
    "## Load in trained model and scaler and columns"
   ]
  },
  {
   "cell_type": "code",
   "execution_count": 2,
   "metadata": {},
   "outputs": [],
   "source": [
    "with open('../assets/scaler.pkl', 'rb') as f:\n",
    "    ss = pickle.load(f)\n",
    "    \n",
    "with open('../assets/lasso.pkl', 'rb') as f:\n",
    "    lasso = pickle.load(f)\n",
    "    \n",
    "with open('../assets/columns.pkl', 'rb') as f:\n",
    "    columns = pickle.load(f)\n",
    "    \n",
    "with open('../assets/kaggle_columns.pkl', 'rb') as f:\n",
    "    kaggle_columns = pickle.load(f)"
   ]
  },
  {
   "cell_type": "markdown",
   "metadata": {},
   "source": [
    "## Load Kaggle Data"
   ]
  },
  {
   "cell_type": "code",
   "execution_count": 3,
   "metadata": {},
   "outputs": [],
   "source": [
    "kaggle = pd.read_csv('../data/test.csv', index_col='Id')"
   ]
  },
  {
   "cell_type": "markdown",
   "metadata": {},
   "source": [
    "## Clean Data exactly as Training Data"
   ]
  },
  {
   "cell_type": "code",
   "execution_count": 4,
   "metadata": {},
   "outputs": [],
   "source": [
    "kaggle.columns = kaggle.columns.map(lambda x: x.replace(' ', '_').replace('/', '_').lower())"
   ]
  },
  {
   "cell_type": "code",
   "execution_count": 5,
   "metadata": {},
   "outputs": [
    {
     "data": {
      "text/plain": [
       "(879, 79)"
      ]
     },
     "execution_count": 5,
     "metadata": {},
     "output_type": "execute_result"
    }
   ],
   "source": [
    "kaggle.shape"
   ]
  },
  {
   "cell_type": "code",
   "execution_count": 6,
   "metadata": {
    "scrolled": true
   },
   "outputs": [
    {
     "data": {
      "text/plain": [
       "Index(['lot_frontage', 'alley', 'mas_vnr_type', 'mas_vnr_area', 'bsmt_qual',\n",
       "       'bsmt_cond', 'bsmt_exposure', 'bsmtfin_type_1', 'bsmtfin_type_2',\n",
       "       'electrical', 'fireplace_qu', 'garage_type', 'garage_yr_blt',\n",
       "       'garage_finish', 'garage_qual', 'garage_cond', 'pool_qc', 'fence',\n",
       "       'misc_feature'],\n",
       "      dtype='object')"
      ]
     },
     "execution_count": 6,
     "metadata": {},
     "output_type": "execute_result"
    }
   ],
   "source": [
    "kaggle.columns[kaggle.isnull().any()]"
   ]
  },
  {
   "cell_type": "code",
   "execution_count": 7,
   "metadata": {},
   "outputs": [],
   "source": [
    "kaggle.lot_frontage.fillna('None', inplace=True)\n",
    "kaggle.alley.fillna('None', inplace=True)\n",
    "kaggle.mas_vnr_type.fillna('None', inplace=True)\n",
    "kaggle.mas_vnr_area.fillna(0, inplace=True)\n",
    "kaggle.bsmt_qual.fillna('Na', inplace=True)\n",
    "kaggle.bsmt_cond.fillna('Na', inplace=True)\n",
    "kaggle.bsmt_exposure.fillna('Na', inplace=True)\n",
    "kaggle.bsmtfin_type_1.fillna('Na', inplace=True)\n",
    "kaggle.bsmtfin_type_2.fillna('Na', inplace=True)\n",
    "kaggle.electrical.fillna('Na', inplace=True)\n",
    "kaggle.fireplace_qu.fillna('Na', inplace=True)\n",
    "kaggle.garage_type.fillna('Na', inplace=True)\n",
    "kaggle.garage_yr_blt.fillna(0, inplace=True)\n",
    "kaggle.garage_finish.fillna('Na', inplace=True)\n",
    "kaggle.garage_qual.fillna('Na', inplace=True)\n",
    "kaggle.garage_cond.fillna('Na', inplace=True)\n",
    "kaggle.pool_qc.fillna('Na', inplace=True)\n",
    "kaggle.fence.fillna('Na', inplace=True)\n",
    "kaggle.misc_feature.fillna('Na', inplace=True)"
   ]
  },
  {
   "cell_type": "code",
   "execution_count": 8,
   "metadata": {},
   "outputs": [],
   "source": [
    "kaggle['1st_flr_sf'] = kaggle['1st_flr_sf'].astype(float)\n",
    "kaggle['2nd_flr_sf'] = kaggle['2nd_flr_sf'].astype(float)\n",
    "kaggle['3ssn_porch'] = kaggle['3ssn_porch'].astype(float)\n",
    "kaggle['bedroom_abvgr'] = kaggle['bedroom_abvgr'].astype(float)\n",
    "kaggle['bsmt_full_bath'] = kaggle['bsmt_full_bath'].astype(float)\n",
    "kaggle['bsmt_half_bath'] = kaggle['bsmt_half_bath'].astype(float)\n",
    "kaggle['full_bath'] = kaggle['full_bath'].astype(float)\n",
    "kaggle['half_bath'] = kaggle['half_bath'].astype(float)\n",
    "kaggle['enclosed_porch'] = kaggle['enclosed_porch'].astype(float)\n",
    "kaggle['fireplaces'] = kaggle['fireplaces'].astype(float)\n",
    "kaggle['garage_cars'] = kaggle['garage_cars'].astype(float)\n",
    "kaggle['garage_yr_blt'] = kaggle['garage_yr_blt'].astype(float)\n",
    "kaggle['gr_liv_area'] = kaggle['gr_liv_area'].astype(float)\n",
    "kaggle['kitchen_abvgr'] = kaggle['kitchen_abvgr'].astype(float)\n",
    "kaggle['lot_area'] = kaggle['lot_area'].astype(float) \n",
    "kaggle['low_qual_fin_sf'] = kaggle['low_qual_fin_sf'].astype(float)\n",
    "kaggle['ms_subclass'] = kaggle['ms_subclass'].astype(str)\n",
    "kaggle['mo_sold'] = kaggle['mo_sold'].astype(float)\n",
    "kaggle['open_porch_sf'] = kaggle['open_porch_sf'].astype(float)\n",
    "kaggle['overall_qual'] = kaggle['overall_qual'].astype(float)\n",
    "kaggle['overall_cond'] = kaggle['overall_cond'].astype(float)\n",
    "kaggle['screen_porch'] = kaggle['screen_porch'].astype(float)\n",
    "kaggle['totrms_abvgrd'] = kaggle['totrms_abvgrd'].astype(float)\n",
    "kaggle['wood_deck_sf'] = kaggle['wood_deck_sf'].astype(float)\n",
    "kaggle['yr_sold'] = kaggle['yr_sold'].astype(int)\n",
    "kaggle['year_built'] = kaggle['year_built'].astype(int)\n",
    "kaggle['year_remod_add'] = kaggle['year_remod_add'].astype(int)"
   ]
  },
  {
   "cell_type": "markdown",
   "metadata": {},
   "source": [
    "## Change Datatypes accordingly"
   ]
  },
  {
   "cell_type": "code",
   "execution_count": 9,
   "metadata": {},
   "outputs": [],
   "source": [
    "for col in kaggle.columns:\n",
    "    try:\n",
    "        kaggle[col] = kaggle[col].astype(float)\n",
    "    except:\n",
    "        pass"
   ]
  },
  {
   "cell_type": "markdown",
   "metadata": {},
   "source": [
    "## Perform Feature Engineering exactly as Training Data"
   ]
  },
  {
   "cell_type": "code",
   "execution_count": 10,
   "metadata": {},
   "outputs": [],
   "source": [
    "kaggle = kaggle[kaggle_columns]"
   ]
  },
  {
   "cell_type": "code",
   "execution_count": 11,
   "metadata": {},
   "outputs": [],
   "source": [
    "missing_col = ['heating_qc_Po', 'garage_qual_Ex']"
   ]
  },
  {
   "cell_type": "code",
   "execution_count": 12,
   "metadata": {},
   "outputs": [],
   "source": [
    "for col in missing_col:\n",
    "    kaggle[col] = 0"
   ]
  },
  {
   "cell_type": "code",
   "execution_count": 13,
   "metadata": {},
   "outputs": [
    {
     "data": {
      "text/plain": [
       "(879, 17)"
      ]
     },
     "execution_count": 13,
     "metadata": {},
     "output_type": "execute_result"
    }
   ],
   "source": [
    "kaggle.shape"
   ]
  },
  {
   "cell_type": "markdown",
   "metadata": {},
   "source": [
    "## Create Dummy Columns for Categoricals"
   ]
  },
  {
   "cell_type": "code",
   "execution_count": 14,
   "metadata": {},
   "outputs": [],
   "source": [
    "cat_mask = (kaggle.dtypes == np.object)\n",
    "cat_columns = kaggle.columns[cat_mask]\n",
    "kaggle_dummies = pd.get_dummies(kaggle, columns = cat_columns)"
   ]
  },
  {
   "cell_type": "code",
   "execution_count": 15,
   "metadata": {},
   "outputs": [],
   "source": [
    "kaggle_dummies = kaggle_dummies[columns]"
   ]
  },
  {
   "cell_type": "code",
   "execution_count": 16,
   "metadata": {},
   "outputs": [
    {
     "data": {
      "text/plain": [
       "(879, 35)"
      ]
     },
     "execution_count": 16,
     "metadata": {},
     "output_type": "execute_result"
    }
   ],
   "source": [
    "kaggle_dummies.shape"
   ]
  },
  {
   "cell_type": "markdown",
   "metadata": {},
   "source": [
    "## Scale Kaggle Data"
   ]
  },
  {
   "cell_type": "code",
   "execution_count": 17,
   "metadata": {},
   "outputs": [],
   "source": [
    "kaggle_dummies_sc = ss.transform(kaggle_dummies)"
   ]
  },
  {
   "cell_type": "markdown",
   "metadata": {},
   "source": [
    "## Make Predictions with Model"
   ]
  },
  {
   "cell_type": "code",
   "execution_count": 18,
   "metadata": {},
   "outputs": [],
   "source": [
    "preds = lasso.predict(kaggle_dummies_sc)"
   ]
  },
  {
   "cell_type": "markdown",
   "metadata": {},
   "source": [
    "## Align Predictions with Index and Setup Header"
   ]
  },
  {
   "cell_type": "code",
   "execution_count": 19,
   "metadata": {},
   "outputs": [],
   "source": [
    "submission = pd.DataFrame(preds, index=kaggle.index, columns=['SalePrice'])"
   ]
  },
  {
   "cell_type": "markdown",
   "metadata": {},
   "source": [
    "## Sort the Index"
   ]
  },
  {
   "cell_type": "code",
   "execution_count": 20,
   "metadata": {},
   "outputs": [],
   "source": [
    "submission.sort_index(inplace=True)"
   ]
  },
  {
   "cell_type": "markdown",
   "metadata": {},
   "source": [
    "## Save Submission to csv"
   ]
  },
  {
   "cell_type": "code",
   "execution_count": 21,
   "metadata": {},
   "outputs": [],
   "source": [
    "submission.to_csv('../data/lasso.csv')"
   ]
  },
  {
   "cell_type": "markdown",
   "metadata": {},
   "source": [
    "## Check data with `head`"
   ]
  },
  {
   "cell_type": "code",
   "execution_count": 22,
   "metadata": {},
   "outputs": [
    {
     "name": "stdout",
     "output_type": "stream",
     "text": [
      "Id,SalePrice\r\n",
      "2,132225.1635549931\r\n",
      "4,238074.02513347083\r\n",
      "6,181375.0648146856\r\n",
      "7,238262.69165614218\r\n",
      "17,235808.1457413977\r\n",
      "18,317745.12107583194\r\n",
      "22,193768.94697877867\r\n",
      "27,104859.8290106025\r\n",
      "31,119599.304712419\r\n"
     ]
    }
   ],
   "source": [
    "!head ../data/lasso.csv"
   ]
  }
 ],
 "metadata": {
  "kernelspec": {
   "display_name": "Python 3",
   "language": "python",
   "name": "python3"
  },
  "language_info": {
   "codemirror_mode": {
    "name": "ipython",
    "version": 3
   },
   "file_extension": ".py",
   "mimetype": "text/x-python",
   "name": "python",
   "nbconvert_exporter": "python",
   "pygments_lexer": "ipython3",
   "version": "3.7.0"
  }
 },
 "nbformat": 4,
 "nbformat_minor": 2
}
