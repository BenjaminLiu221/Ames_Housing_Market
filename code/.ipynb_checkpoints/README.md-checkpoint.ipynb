{
 "cells": [
  {
   "cell_type": "markdown",
   "metadata": {},
   "source": [
    "# How to Predict the Price of a House"
   ]
  },
  {
   "cell_type": "markdown",
   "metadata": {},
   "source": [
    "### Problem Statement"
   ]
  },
  {
   "cell_type": "markdown",
   "metadata": {},
   "source": [
    "The sale price of a house can be difficult to appraise. There are many features of a house that can increase or decrease the overall price. I need to determine which features best contribute to appraising the price of a house. I will use the data from Ames, Iowa Housing Data Set by performing exploratory data analysis, data cleaning, feature engineering to build the best model that reflects the appropriate features and the weight of their importance."
   ]
  },
  {
   "cell_type": "markdown",
   "metadata": {},
   "source": [
    "### Contents:"
   ]
  },
  {
   "cell_type": "markdown",
   "metadata": {},
   "source": [
    " - [Description of Data](#Description-of-Data)\n",
    " - [Model Performance](#Model-performance-on-training/test-data)\n",
    " - [Results](#Results)\n",
    " - [Future Steps](#Future-Steps)"
   ]
  },
  {
   "cell_type": "markdown",
   "metadata": {},
   "source": [
    "### Description of Data"
   ]
  },
  {
   "cell_type": "markdown",
   "metadata": {},
   "source": [
    "#### Sample Size and Source"
   ]
  },
  {
   "cell_type": "markdown",
   "metadata": {},
   "source": [
    "I obtained the data set from Kaggle Ames Housing Project. Here is the [Source](https://www.kaggle.com/c/dsi-us-6-project-2-regression-challenge/data). I also obtained the article: Ames Assessor's Office which contains information for individual properties sold in Ames, IA from 2006 to 2010. Here is the [Source](http://jse.amstat.org/v19n3/decock/DataDocumentation.txt). The size of the dataset is 81 unique features of a home and 2051 homes."
   ]
  },
  {
   "cell_type": "markdown",
   "metadata": {},
   "source": [
    "### Target"
   ]
  },
  {
   "cell_type": "markdown",
   "metadata": {},
   "source": [
    "The aim was to build the model that best explains the importance of features and best predicts the sale price of homes based on selected features by conducting analysis between the different features of the dataset in relation to the target sale price of a home and importing considerations when building the model."
   ]
  },
  {
   "cell_type": "code",
   "execution_count": null,
   "metadata": {},
   "outputs": [],
   "source": []
  }
 ],
 "metadata": {
  "kernelspec": {
   "display_name": "Python 3",
   "language": "python",
   "name": "python3"
  },
  "language_info": {
   "codemirror_mode": {
    "name": "ipython",
    "version": 3
   },
   "file_extension": ".py",
   "mimetype": "text/x-python",
   "name": "python",
   "nbconvert_exporter": "python",
   "pygments_lexer": "ipython3",
   "version": "3.7.0"
  }
 },
 "nbformat": 4,
 "nbformat_minor": 2
}
